{
 "cells": [
  {
   "cell_type": "markdown",
   "metadata": {
    "slideshow": {
     "slide_type": "slide"
    }
   },
   "source": [
    "# A compact statistical model of Bengalese finch song syntax\n",
    "## A case study in reproducibility\n",
    "David Nicholson  \n",
    "post-doctoral fellow    \n",
    "Emory University  \n",
    "nee Sober lab, now Prinz lab"
   ]
  },
  {
   "cell_type": "markdown",
   "metadata": {
    "slideshow": {
     "slide_type": "slide"
    }
   },
   "source": [
    "## Introduction\n",
    "### songbirds\n",
    "- learn their song during *critical period*\n",
    "- by hearing a *tutor* and practicing an imitation\n",
    "<img src=\"./images/zeebies_sakata_picture_dooling_spectrogram.png\" alt=\"tutoring\" style=\"width: 300px;float: right;\"/>"
   ]
  },
  {
   "cell_type": "markdown",
   "metadata": {
    "slideshow": {
     "slide_type": "slide"
    }
   },
   "source": [
    "### the song system\n",
    "- songbird brain very similar to human brain\n",
    "<img src=\"./images/classic_modern_brain_evolution.gif\" alt=\"bird_v_human_brain\" style=\"width: 500px;float: center;\"/>\n",
    "(Image credit: Zina Deretsky - NSF)"
   ]
  },
  {
   "cell_type": "markdown",
   "metadata": {
    "slideshow": {
     "slide_type": "slide"
    }
   },
   "source": [
    "- song system evolved \"on top of\" areas found in all brains\n",
    "\n",
    "<img src=\"./images/evolution_vocal_pathways.jpg\" alt=\"bird_v_human_brain\" style=\"width: 600px;float: center;\"/>\n",
    "\n",
    "Chakraborty, Mukta, and Erich D. Jarvis. \"Brain evolution by brain pathway duplication.\" Phil. Trans. R. Soc. B 370.1684 (2015): 20150056."
   ]
  },
  {
   "cell_type": "markdown",
   "metadata": {
    "slideshow": {
     "slide_type": "slide"
    }
   },
   "source": [
    "- **therefore songbirds provide a *model system* to understand  \n",
    "  how the brain learns and produces  \n",
    "  sequenced, precisely-controlled behaviors learned by imitation and practice, like:**  \n",
    "  - speaking a language\n",
    "  - playing the guitar\n",
    "  - typing a computer program"
   ]
  },
  {
   "cell_type": "markdown",
   "metadata": {
    "slideshow": {
     "slide_type": "slide"
    }
   },
   "source": [
    "###  Song\n",
    "<img src=\"./images/example_song.png\" alt=\"example_song\" style=\"width: 600px;float: right;\"/>\n",
    "Song *is* a sequenced and precisely controlled behavior\n",
    "- Most species have song made up of elements called **syllables**\n",
    "- The bird sings **sequences** of these syllables\n",
    "- The sequences obey a set of rules, i.e., a **syntax**, similar to the way that speech obeys a syntax\n",
    "- If you want to know how the brain produces a behavior,  \n",
    "  you need to be able to quantitatively describe that behavior\n",
    "  such as a **generative model**\n",
    "- if my **model of the brain** produces behavior indistinguishable from my **model of behavior**, then\n",
    "  I could argue I understand something about how the brain works"
   ]
  },
  {
   "cell_type": "markdown",
   "metadata": {
    "slideshow": {
     "slide_type": "fragment"
    }
   },
   "source": [
    "### Different species, different songs with different syntax\n",
    "#### Zebra finch\n",
    "\n",
    "- commonly studied by neuroscientists (easy to bred in lab)\n",
    "- squawky song\n",
    "- simple syntax\n",
    "  - well described by a **first-order Markov model** where the probability of a given syllable occuring at a given \"time step\" in a sequence depends only on syllable that occurred at previous time step\n",
    "\n",
    "<img src=\"./images/Hessler_Doupe_1999_Fig1.png\" alt=\"hessler_doupe_fig1\" style=\"width: 500px;float: center;\"/>\n",
    "Figure 1 from N.A. Hessler and A.J. Doupe, \"Singing-Related Neural Activity in a Dorsal Forebrain–Basal Ganglia Circuit of Adult Zebra Finches\", J. Neuroscience 1999"
   ]
  },
  {
   "cell_type": "markdown",
   "metadata": {
    "slideshow": {
     "slide_type": "slide"
    }
   },
   "source": [
    "#### Bengalese finch\n",
    "\n",
    "- can contain **branch points** where one syllable can transition to two or more other syllables\n",
    "- can also include **repeats** where a syllable transitions back to itself\n",
    "<img src=\"./images/Wohlgemuth_Sober_Brainard.jpg\" alt=\"wohlgemuth_sober_brainard_2010\" style=\"width: 500px;float: center;\"/>\n",
    "Figure 1 from Wohlgemuth, Melville J., Samuel J. Sober, and Michael S. Brainard. \"Linked control of syllable sequence and phonology in birdsong.\" Journal of Neuroscience 30.39 (2010): 12936-12949."
   ]
  },
  {
   "cell_type": "markdown",
   "metadata": {},
   "source": [
    "### Bengalese finch song can be described by a Partially-Observable Markov Model with Adaptation (\"POMMA\")\n",
    "\n",
    "<img src=\"./images/journal.pcbi.1001108.g007.png\" alt=\"Jin_Kozhevnikov_fig7\" style=\"width: 500px;float: center;\"/>\n",
    "\n",
    "Jin, Dezhe Z., and Alexay A. Kozhevnikov. \"A compact statistical model of the song syntax in Bengalese finch.\" PLoS computational biology 7.3 (2011): e1001108."
   ]
  },
  {
   "cell_type": "markdown",
   "metadata": {},
   "source": [
    "I am working with one of the authors, Dezhe Jin, to convert code for fitting POMMAs to a Python package:\n",
    "https://github.com/NickleDave/pomma"
   ]
  },
  {
   "cell_type": "markdown",
   "metadata": {},
   "source": [
    "### Bengalese finch song syntax does not obey first order Markov model\n",
    "#### in particular, repeat distributions cannot be reproduced by a first-order Markov process\n",
    "\n",
    "I show this by fitting syntax of one bird's sequences with a first-order Markov model."
   ]
  },
  {
   "cell_type": "code",
   "execution_count": null,
   "metadata": {},
   "outputs": [],
   "source": [
    "import numpy as np\n",
    "\n",
    "import matplotlib.pyplot as plt\n",
    "%matplotlib inline\n",
    "\n",
    "import pomma"
   ]
  },
  {
   "cell_type": "markdown",
   "metadata": {},
   "source": [
    "First, I load some data."
   ]
  },
  {
   "cell_type": "code",
   "execution_count": null,
   "metadata": {},
   "outputs": [],
   "source": [
    "data = pomma.datasets.load()\n",
    "labels = data['bl26lb16']  # bird ID"
   ]
  },
  {
   "cell_type": "markdown",
   "metadata": {},
   "source": [
    "The sequences of labels looks like this,  \n",
    "where each row is a sequence from one song:"
   ]
  },
  {
   "cell_type": "code",
   "execution_count": null,
   "metadata": {},
   "outputs": [],
   "source": [
    "for ind in range(5):\n",
    "    print(labels[ind])"
   ]
  },
  {
   "cell_type": "markdown",
   "metadata": {},
   "source": [
    "I make a first-order Markov transition matrix based on the sequences of syllable labels."
   ]
  },
  {
   "cell_type": "code",
   "execution_count": null,
   "metadata": {
    "slideshow": {
     "slide_type": "subslide"
    }
   },
   "outputs": [],
   "source": [
    "startchar = 'S'\n",
    "endchar = 'E'\n",
    "labelset = list(startchar + 'iabcdefg' + endchar)\n",
    "tr = pomma.first_order_markov.make_trans_mat(labels, labelset, endchar)"
   ]
  },
  {
   "cell_type": "markdown",
   "metadata": {},
   "source": [
    "This is what such a matrix looks like for this data:"
   ]
  },
  {
   "cell_type": "code",
   "execution_count": null,
   "metadata": {},
   "outputs": [],
   "source": [
    "pomma.plot_utils.plot_trans_mat(tr, labelset)"
   ]
  },
  {
   "cell_type": "markdown",
   "metadata": {},
   "source": [
    "I then use the transition matrix to generate many sequences."
   ]
  },
  {
   "cell_type": "code",
   "execution_count": null,
   "metadata": {},
   "outputs": [],
   "source": [
    "seqs = pomma.first_order_markov.generate_sequences(tr, labelset, num=500)\n",
    "for seq in seqs[:5]:\n",
    "    print(seq)"
   ]
  },
  {
   "cell_type": "markdown",
   "metadata": {},
   "source": [
    "Now let's look at the distribution of repeats in the actual data and in the generated sequences."
   ]
  },
  {
   "cell_type": "code",
   "execution_count": null,
   "metadata": {},
   "outputs": [],
   "source": [
    "# from the actual data\n",
    "labels_repeat_distribs = pomma.statistics.get_repeat_distribs(labels, 'iabcdefghjk')\n",
    "counts_b = labels_repeat_distribs['b']['counts']\n",
    "unique_repeats_b = labels_repeat_distribs['b']['unique_repeats']\n",
    "n_b = [len(uniq)-1 for uniq in unique_repeats_b]\n",
    "p_counts = np.asarray(counts_b) / sum(counts_b)\n",
    "p_init = tr[2,3]\n",
    "\n",
    "# from the generated sequences\n",
    "seqs_repeat_distribs = pomma.statistics.get_repeat_distribs(seqs, 'iabcdefghjk')\n",
    "counts_b_seqs = seqs_repeat_distribs['b']['counts']\n",
    "unique_repeats_b_seqs = seqs_repeat_distribs['b']['unique_repeats']\n",
    "n_b_seqs = [len(uniq)-1 for uniq in unique_repeats_b_seqs]\n",
    "p_counts_b_seqs = np.asarray(counts_b_seqs) / sum(counts_b_seqs)"
   ]
  },
  {
   "cell_type": "code",
   "execution_count": null,
   "metadata": {},
   "outputs": [],
   "source": [
    "fig, ax = plt.subplots()\n",
    "fig.set_size_inches(8,6)\n",
    "ax.plot(n_b, p_counts, color='blue', label='data')\n",
    "ax.plot(n_b_seqs[:len(n_b)], p_counts_b_seqs[:len(n_b)], color='red', linestyle='--', label='Markov model')\n",
    "ax.set_title('probability distribution of number of repeats')\n",
    "ax.set_ylabel('probability')\n",
    "ax.set_xlabel('number of repeats')\n",
    "ax.set_xticks(n_b);\n",
    "ax.legend();"
   ]
  },
  {
   "cell_type": "markdown",
   "metadata": {},
   "source": [
    "** Notice that the repeat distribution from the model (red dashed line) peaks at the start and then decays exponentially, while the peak repeat distribution in the real data has a peak at 7, not at the start**\n",
    "## To better fit these repeat distributions, we introduce the idea of *adaptation*"
   ]
  },
  {
   "cell_type": "code",
   "execution_count": null,
   "metadata": {},
   "outputs": [],
   "source": [
    "from scipy.optimize import curve_fit"
   ]
  },
  {
   "cell_type": "code",
   "execution_count": null,
   "metadata": {},
   "outputs": [],
   "source": [
    "def prob_n_repeats_adapt(p_init, n, alpha):\n",
    "    \"\"\"probability of seeing n repeats under adaptation\n",
    "    p_init : float\n",
    "        initial probability of the syllable transitioning back to itself\n",
    "    n : int\n",
    "        number of repeats of syllable\n",
    "    alpha : float between 0 and 1\n",
    "    \"\"\"\n",
    "    \n",
    "    if alpha < 0 or alpha > 1:\n",
    "        raise ValueError('value of alpha must be bewteen 0 and 1')\n",
    "    \n",
    "    return (alpha ** (\n",
    "        (n - 2) * (n - 1) / 2)\n",
    "           ) * (p_init ** (n-1)) * (\n",
    "        1 - (alpha ** (n-1) * p_init)\n",
    "    )"
   ]
  },
  {
   "cell_type": "code",
   "execution_count": null,
   "metadata": {},
   "outputs": [],
   "source": [
    "def p_curve(repeat_nums, p_init, alpha):\n",
    "    return np.asarray(\n",
    "        [prob_n_repeats_adapt(p_init, n=n, alpha=alpha)\n",
    "         for n in repeat_nums]\n",
    "    )"
   ]
  },
  {
   "cell_type": "code",
   "execution_count": null,
   "metadata": {},
   "outputs": [],
   "source": [
    "p_init = tr[2,3]\n",
    "p_opt, p_cov = curve_fit(lambda x, alpha: p_curve(x, p_init, alpha),\n",
    "                         xdata=n_b,ydata=p_counts,\n",
    "                         p0=0.75,\n",
    "                         bounds=((0.5,),(1.0,)))"
   ]
  },
  {
   "cell_type": "code",
   "execution_count": null,
   "metadata": {},
   "outputs": [],
   "source": [
    "y_hat = p_curve(n_b,p_init,p_opt)\n",
    "x = n_b\n",
    "y = p_counts\n",
    "fig, ax = plt.subplots()\n",
    "ax.plot(x, y)\n",
    "ax.plot(x, y_hat, linestyle='--');"
   ]
  },
  {
   "cell_type": "markdown",
   "metadata": {},
   "source": [
    "## To be continued ..."
   ]
  }
 ],
 "metadata": {
  "kernelspec": {
   "display_name": "Python 3",
   "language": "python",
   "name": "python3"
  },
  "language_info": {
   "codemirror_mode": {
    "name": "ipython",
    "version": 3
   },
   "file_extension": ".py",
   "mimetype": "text/x-python",
   "name": "python",
   "nbconvert_exporter": "python",
   "pygments_lexer": "ipython3",
   "version": "3.6.5"
  }
 },
 "nbformat": 4,
 "nbformat_minor": 2
}
